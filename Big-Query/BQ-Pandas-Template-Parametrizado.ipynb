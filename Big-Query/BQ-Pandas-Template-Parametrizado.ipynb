{
 "cells": [
  {
   "cell_type": "markdown",
   "metadata": {},
   "source": [
    "## Notebook BQ with Pandas"
   ]
  },
  {
   "cell_type": "markdown",
   "metadata": {},
   "source": [
    "### Importando Bibliotecas"
   ]
  },
  {
   "cell_type": "code",
   "execution_count": null,
   "metadata": {},
   "outputs": [],
   "source": [
    "from google.cloud import bigquery\n",
    "import pandas as pd\n",
    "pd.options.display.float_format = '{:,.2f}'.format\n",
    "client = bigquery.Client()\n",
    "dataset = 'dataset_2011*'"
   ]
  },
  {
   "cell_type": "markdown",
   "metadata": {},
   "source": [
    "## Verificando o Período"
   ]
  },
  {
   "cell_type": "code",
   "execution_count": null,
   "metadata": {},
   "outputs": [],
   "source": [
    "sql=\"\"\"\n",
    "SELECT\n",
    "  MIN(DATA) AS PRIMEIRA_COMPRA,\n",
    "  MAX(DATA) AS ULTIMA_COMPRA\n",
    "FROM (\n",
    "  SELECT\n",
    "    PARSE_DATE('%d/%m/%Y',SPLIT(DT_CONFIRMACAO, ' ')[OFFSET(0)]) AS DATA\n",
    "  FROM\n",
    "    `{}`)\"\"\".format(dataset)\n",
    "query_job = client.query(sql).to_dataframe()\n",
    "query_job"
   ]
  },
  {
   "cell_type": "markdown",
   "metadata": {},
   "source": [
    "## Verificando Tipos de Fornecedores"
   ]
  },
  {
   "cell_type": "code",
   "execution_count": null,
   "metadata": {},
   "outputs": [],
   "source": [
    "sql=\"\"\"\n",
    "SELECT\n",
    "  TIPO_FORNECEDOR,\n",
    "  count(TIPO_FORNECEDOR) AS NUMERO_TOTAL\n",
    "FROM\n",
    " `{}`\n",
    "GROUP BY\n",
    "  TIPO_FORNECEDOR\"\"\".format(dataset)\n",
    "query_job = client.query(sql).to_dataframe()\n",
    "query_job"
   ]
  },
  {
   "cell_type": "markdown",
   "metadata": {},
   "source": [
    "## Verificando Número Total de Reservas"
   ]
  },
  {
   "cell_type": "code",
   "execution_count": null,
   "metadata": {},
   "outputs": [],
   "source": [
    "sql=\"\"\"\n",
    "SELECT\n",
    "  COUNT(DISTINCT CD_RESERVA) AS NUMERO_TOTAL_RESERVAS\n",
    "FROM\n",
    "  `{}`\"\"\".format(dataset)\n",
    "query_job = client.query(sql).to_dataframe()\n",
    "query_job"
   ]
  },
  {
   "cell_type": "markdown",
   "metadata": {},
   "source": [
    "## Calculando a Valor Total dos Recibos"
   ]
  },
  {
   "cell_type": "code",
   "execution_count": null,
   "metadata": {},
   "outputs": [],
   "source": [
    "Valor_total_recibos=\"\"\"\n",
    "SELECT\n",
    "  SUM(VL_TOTAL_RECIBO_) AS VALOR_TOTAL_RECIBOS\n",
    "FROM(\n",
    "SELECT\n",
    "  NR_RECIBO_SYSTUR,\n",
    "  MAX(VL_TOTAL_RECIBO) AS VL_TOTAL_RECIBO_\n",
    "FROM\n",
    "  `{}`\n",
    "WHERE\n",
    "  NR_RECIBO_SYSTUR IS NOT NULL\n",
    "GROUP BY\n",
    "  NR_RECIBO_SYSTUR)\"\"\".format(dataset)"
   ]
  },
  {
   "cell_type": "code",
   "execution_count": null,
   "metadata": {},
   "outputs": [],
   "source": [
    "Valor_total_recibos = client.query(Valor_total_recibos).to_dataframe()\n",
    "Valor_total_recibos"
   ]
  },
  {
   "cell_type": "markdown",
   "metadata": {},
   "source": [
    "## Calculando Valor total Aéreo"
   ]
  },
  {
   "cell_type": "code",
   "execution_count": null,
   "metadata": {},
   "outputs": [],
   "source": [
    "Valor_Total_Aereo=\"\"\"\n",
    "SELECT\n",
    "  SUM(VL_REPASSE_FORNECEDOR) + SUM(VL_TAXA_EMBARQUE) AS VALOR_TOTAL_AEREO\n",
    "FROM(\n",
    "  SELECT\n",
    "    VL_REPASSE_FORNECEDOR,\n",
    "    VL_TAXA_EMBARQUE\n",
    "  FROM\n",
    "    `{}`\n",
    "  WHERE\n",
    "    TIPO_FORNECEDOR = 'AEREO'\n",
    "    AND NR_RECIBO_SYSTUR IS NOT NULL )\"\"\".format(dataset)"
   ]
  },
  {
   "cell_type": "code",
   "execution_count": null,
   "metadata": {},
   "outputs": [],
   "source": [
    "Valor_Total_Aereo = client.query(Valor_Total_Aereo).to_dataframe()\n",
    "Valor_Total_Aereo"
   ]
  },
  {
   "cell_type": "markdown",
   "metadata": {},
   "source": [
    "### Calculando o Valor Total Dos Recibos sem Aéreo"
   ]
  },
  {
   "cell_type": "code",
   "execution_count": null,
   "metadata": {},
   "outputs": [],
   "source": [
    "Valor_total_recibos_sem_aereo=\"\"\"\n",
    "SELECT\n",
    "  SUM(VL_TOTAL_RECIBO_) AS VALOR_TOTAL_RECIBOS_SEM_AEREO\n",
    "FROM(\n",
    "SELECT\n",
    "  NR_RECIBO_SYSTUR,\n",
    "  MAX(VL_TOTAL_RECIBO) AS VL_TOTAL_RECIBO_\n",
    "FROM(\n",
    "SELECT\n",
    "  NR_RECIBO_SYSTUR,\n",
    "  VL_TOTAL_RECIBO\n",
    "FROM\n",
    " `{}`\n",
    "WHERE\n",
    "  bilhetes_t IS NULL\n",
    "  AND NR_RECIBO_SYSTUR IS NOT NULL\n",
    "  AND Tipo_fornecedor_t IS NULL)\n",
    "GROUP BY\n",
    "  NR_RECIBO_SYSTUR)\"\"\".format(dataset)"
   ]
  },
  {
   "cell_type": "code",
   "execution_count": null,
   "metadata": {},
   "outputs": [],
   "source": [
    "Valor_total_recibos_sem_aereo = client.query(Valor_total_recibos_sem_aereo).to_dataframe()\n",
    "Valor_total_recibos_sem_aereo"
   ]
  },
  {
   "cell_type": "markdown",
   "metadata": {},
   "source": [
    "### Calculando o valor total dos recibos -> recibo complementar"
   ]
  },
  {
   "cell_type": "code",
   "execution_count": null,
   "metadata": {},
   "outputs": [],
   "source": [
    "Valor_Total_Recibo_Complementar = \"\"\"\n",
    "SELECT\n",
    "  SUM(VL_TOTAL_RECIBO_) AS VALOR_TOTAL_RECIBO_COMPLEMENTAR\n",
    "FROM(\n",
    "SELECT\n",
    "  NR_RECIBO_SYSTUR,\n",
    "  MAX(VL_TOTAL_RECIBO) AS VL_TOTAL_RECIBO_\n",
    "FROM (\n",
    "  SELECT\n",
    "    NR_RECIBO_SYSTUR,\n",
    "    VL_TOTAL_RECIBO\n",
    "  FROM\n",
    "    `{}`\n",
    "  WHERE\n",
    "    bilhetes_t IS NULL\n",
    "    AND NR_RECIBO_SYSTUR IS NOT NULL\n",
    "    AND Tipo_fornecedor_t = \"AEREO\")\n",
    "GROUP BY\n",
    "  NR_RECIBO_SYSTUR)\"\"\".format(dataset)"
   ]
  },
  {
   "cell_type": "code",
   "execution_count": null,
   "metadata": {},
   "outputs": [],
   "source": [
    "Valor_Total_Recibo_Complementar = client.query(Valor_Total_Recibo_Complementar).to_dataframe()\n",
    "Valor_Total_Recibo_Complementar"
   ]
  },
  {
   "cell_type": "markdown",
   "metadata": {},
   "source": [
    "### Calculando valor de aéreo -> recibos complementares"
   ]
  },
  {
   "cell_type": "code",
   "execution_count": null,
   "metadata": {},
   "outputs": [],
   "source": [
    "Aereo_Total_Recibo_Complementar = \"\"\"\n",
    "SELECT\n",
    "  VL_REPASSE_FORNECEDOR_ + VL_TAXA_EMBARQUE_ AS AEREO_TOTAL_RECIBO_COMPLEMENTAR\n",
    "FROM(\n",
    "SELECT\n",
    "  SUM(VL_REPASSE_FORNECEDOR) AS VL_REPASSE_FORNECEDOR_,\n",
    "  SUM(VL_TAXA_EMBARQUE) AS VL_TAXA_EMBARQUE_\n",
    "FROM (\n",
    "  SELECT\n",
    "    TIPO_FORNECEDOR,\n",
    "    VL_REPASSE_FORNECEDOR,\n",
    "    VL_TAXA_EMBARQUE\n",
    "  FROM\n",
    "    `{}`\n",
    "  WHERE\n",
    "    bilhetes_t IS NULL\n",
    "    AND NR_RECIBO_SYSTUR IS NOT NULL\n",
    "    AND Tipo_fornecedor_t = 'AEREO')\n",
    " WHERE\n",
    "  TIPO_FORNECEDOR = \"AEREO\")\"\"\".format(dataset)"
   ]
  },
  {
   "cell_type": "code",
   "execution_count": null,
   "metadata": {},
   "outputs": [],
   "source": [
    "Aereo_Total_Recibo_Complementar = client.query(Aereo_Total_Recibo_Complementar).to_dataframe()\n",
    "Aereo_Total_Recibo_Complementar"
   ]
  },
  {
   "cell_type": "code",
   "execution_count": null,
   "metadata": {},
   "outputs": [],
   "source": [
    "Valor_Total_Recibo_Voo_Regular = \"\"\"\n",
    "SELECT\n",
    "  SUM(VL_TOTAL_RECIBO_) AS VALOR_TOTAL_RECIBO_VOO_REGULAR\n",
    "FROM(\n",
    "SELECT\n",
    "  NR_RECIBO_SYSTUR,\n",
    "  MAX(VL_TOTAL_RECIBO) AS VL_TOTAL_RECIBO_\n",
    "FROM(\n",
    "SELECT\n",
    "  NR_RECIBO_SYSTUR,\n",
    "  VL_TOTAL_RECIBO\n",
    "FROM\n",
    "  `{}`\n",
    "WHERE\n",
    "  bilhetes_t IS NOT NULL\n",
    "  AND MALHA IS NULL\n",
    "  AND NR_RECIBO_SYSTUR IS NOT NULL)\n",
    "GROUP BY\n",
    "  NR_RECIBO_SYSTUR)\"\"\".format(dataset)"
   ]
  },
  {
   "cell_type": "code",
   "execution_count": null,
   "metadata": {},
   "outputs": [],
   "source": [
    "Valor_Total_Recibo_Voo_Regular = client.query(Valor_Total_Recibo_Voo_Regular).to_dataframe()\n",
    "Valor_Total_Recibo_Voo_Regular"
   ]
  },
  {
   "cell_type": "markdown",
   "metadata": {},
   "source": [
    "### Calculando valor de aéreo -> voos regulares"
   ]
  },
  {
   "cell_type": "code",
   "execution_count": null,
   "metadata": {},
   "outputs": [],
   "source": [
    "Aereo_Total_Recibo_Voo_Regular = \"\"\"\n",
    "SELECT\n",
    "  VL_REPASSE_FORNECEDOR_ + VL_TAXA_EMBARQUE_ AS AEREO_TOTAL_RECIBO_VOO_REGULAR\n",
    "FROM(\n",
    "SELECT\n",
    "  SUM(VL_REPASSE_FORNECEDOR) AS VL_REPASSE_FORNECEDOR_,\n",
    "  SUM(VL_TAXA_EMBARQUE) AS VL_TAXA_EMBARQUE_\n",
    "FROM(\n",
    "SELECT\n",
    "  VL_REPASSE_FORNECEDOR,\n",
    "  VL_TAXA_EMBARQUE\n",
    "FROM\n",
    "  `{}`\n",
    "WHERE\n",
    "  bilhetes_t IS NOT NULL\n",
    "  AND MALHA IS NULL\n",
    "  AND TIPO_FORNECEDOR = 'AEREO'\n",
    "  AND NR_RECIBO_SYSTUR IS NOT NULL))\"\"\".format(dataset)"
   ]
  },
  {
   "cell_type": "code",
   "execution_count": null,
   "metadata": {},
   "outputs": [],
   "source": [
    "Aereo_Total_Recibo_Voo_Regular = client.query(Aereo_Total_Recibo_Voo_Regular).to_dataframe()\n",
    "Aereo_Total_Recibo_Voo_Regular"
   ]
  },
  {
   "cell_type": "markdown",
   "metadata": {},
   "source": [
    "### Calculando valor total de recibos com voos fretados"
   ]
  },
  {
   "cell_type": "code",
   "execution_count": null,
   "metadata": {},
   "outputs": [],
   "source": [
    "Valor_Total_Recibo_Voo_Fretado = \"\"\"\n",
    "SELECT\n",
    "  SUM(VL_TOTAL_RECIBO_) AS VALOR_TOTAL_RECIBO_VOO_FRETADO\n",
    "FROM(\n",
    "SELECT\n",
    "  NR_RECIBO_SYSTUR,\n",
    "  MAX(VL_TOTAL_RECIBO) AS VL_TOTAL_RECIBO_\n",
    "FROM (\n",
    "  SELECT\n",
    "    NR_RECIBO_SYSTUR,\n",
    "    VL_TOTAL_RECIBO\n",
    "  FROM\n",
    "    `{}`\n",
    "  WHERE\n",
    "    bilhetes_t IS NOT NULL\n",
    "    AND MALHA IS NOT NULL\n",
    "    AND Localizadores_t IS NULL\n",
    "    AND NR_RECIBO_SYSTUR IS NOT NULL)\n",
    "GROUP BY\n",
    "  NR_RECIBO_SYSTUR)\"\"\".format(dataset)"
   ]
  },
  {
   "cell_type": "code",
   "execution_count": null,
   "metadata": {},
   "outputs": [],
   "source": [
    "Valor_Total_Recibo_Voo_Fretado = client.query(Valor_Total_Recibo_Voo_Fretado).to_dataframe()\n",
    "Valor_Total_Recibo_Voo_Fretado"
   ]
  },
  {
   "cell_type": "markdown",
   "metadata": {},
   "source": [
    "### Calculando Valor aéreo -> recibos voos fretados"
   ]
  },
  {
   "cell_type": "code",
   "execution_count": null,
   "metadata": {},
   "outputs": [],
   "source": [
    "Aereo_Total_Recibo_Voo_Fretado = \"\"\"\n",
    "SELECT\n",
    "  VL_REPASSE_FORNECEDOR_ + VL_TAXA_EMBARQUE_ AS AEREO_TOTAL_RECIBO_VOO_FRETADO\n",
    "FROM(\n",
    "SELECT\n",
    "  SUM(VL_REPASSE_FORNECEDOR) AS VL_REPASSE_FORNECEDOR_,\n",
    "  SUM(VL_TAXA_EMBARQUE) AS VL_TAXA_EMBARQUE_\n",
    "FROM (\n",
    "  SELECT\n",
    "    TIPO_FORNECEDOR,\n",
    "    VL_REPASSE_FORNECEDOR,\n",
    "    VL_TAXA_EMBARQUE\n",
    "  FROM\n",
    "    `{}`\n",
    "  WHERE\n",
    "    bilhetes_t IS NOT NULL\n",
    "    AND MALHA IS NOT NULL\n",
    "    AND Localizadores_t IS NULL\n",
    "    AND NR_RECIBO_SYSTUR IS NOT NULL)\n",
    "WHERE\n",
    "  TIPO_FORNECEDOR = 'AEREO')\"\"\".format(dataset)"
   ]
  },
  {
   "cell_type": "code",
   "execution_count": null,
   "metadata": {},
   "outputs": [],
   "source": [
    "Aereo_Total_Recibo_Voo_Fretado = client.query(Aereo_Total_Recibo_Voo_Fretado).to_dataframe()\n",
    "Aereo_Total_Recibo_Voo_Fretado"
   ]
  },
  {
   "cell_type": "markdown",
   "metadata": {},
   "source": [
    "### Calculando valor total de recibos xxx Block Charter"
   ]
  },
  {
   "cell_type": "code",
   "execution_count": null,
   "metadata": {},
   "outputs": [],
   "source": [
    "Valor_Total_Recibo_Voo_Block_Charter = \"\"\"\n",
    "SELECT\n",
    "  SUM(VL_TOTAL_RECIBO_) AS VALOR_TOTAL_RECIBO_VOO_BLOCK_CHARTER\n",
    "FROM(\n",
    "SELECT\n",
    "  NR_RECIBO_SYSTUR,\n",
    "  MAX(VL_TOTAL_RECIBO) AS VL_TOTAL_RECIBO_\n",
    "FROM(\n",
    "  SELECT\n",
    "    NR_RECIBO_SYSTUR,\n",
    "    VL_TOTAL_RECIBO\n",
    "  FROM\n",
    "    `{}`\n",
    "  WHERE\n",
    "    bilhetes_t IS NOT NULL\n",
    "    AND MALHA IS NOT NULL\n",
    "    AND Localizadores_t IS NOT NULL\n",
    "    AND NR_RECIBO_SYSTUR IS NOT NULL)\n",
    "GROUP BY\n",
    "  NR_RECIBO_SYSTUR)\"\"\".format(dataset)"
   ]
  },
  {
   "cell_type": "code",
   "execution_count": null,
   "metadata": {},
   "outputs": [],
   "source": [
    "Valor_Total_Recibo_Voo_Block_Charter = client.query(Valor_Total_Recibo_Voo_Block_Charter).to_dataframe()\n",
    "Valor_Total_Recibo_Voo_Block_Charter"
   ]
  },
  {
   "cell_type": "markdown",
   "metadata": {},
   "source": [
    "### Calculando Valor aéreo -> recibos block charter"
   ]
  },
  {
   "cell_type": "code",
   "execution_count": null,
   "metadata": {},
   "outputs": [],
   "source": [
    "Aereo_Total_Recibo_Voo_Block_Charter = \"\"\"\n",
    "SELECT\n",
    "  VL_REPASSE_FORNECEDOR_ + VL_TAXA_EMBARQUE_ AS AEREO_TOTAL_RECIBO_VOO_BLOCK_CHARTER\n",
    "FROM(\n",
    "SELECT\n",
    "  SUM(VL_REPASSE_FORNECEDOR) AS VL_REPASSE_FORNECEDOR_,\n",
    "  SUM(VL_TAXA_EMBARQUE) AS VL_TAXA_EMBARQUE_\n",
    "FROM(\n",
    "  SELECT\n",
    "    TIPO_FORNECEDOR,\n",
    "    VL_REPASSE_FORNECEDOR,\n",
    "    VL_TAXA_EMBARQUE\n",
    "  FROM\n",
    "    `{}`\n",
    "  WHERE\n",
    "    bilhetes_t IS NOT NULL\n",
    "    AND MALHA IS NOT NULL\n",
    "    AND Localizadores_t IS NOT NULL\n",
    "    AND NR_RECIBO_SYSTUR IS NOT NULL)\n",
    "WHERE\n",
    "  TIPO_FORNECEDOR = 'AEREO')\"\"\".format(dataset)"
   ]
  },
  {
   "cell_type": "code",
   "execution_count": null,
   "metadata": {},
   "outputs": [],
   "source": [
    "Aereo_Total_Recibo_Voo_Block_Charter = client.query(Aereo_Total_Recibo_Voo_Block_Charter).to_dataframe()\n",
    "Aereo_Total_Recibo_Voo_Block_Charter"
   ]
  },
  {
   "cell_type": "markdown",
   "metadata": {},
   "source": [
    "## Resultados Finais"
   ]
  },
  {
   "cell_type": "code",
   "execution_count": null,
   "metadata": {},
   "outputs": [],
   "source": [
    "d = {'TIPO': ['PACOTES SEM VOO','VOOS REGULARES','BLOCK CHARTER','FRETAMENTO','RECIBOS COMPLEMENTARES','TOTAL'],\n",
    "     'TOTAL RECIBOS': [Valor_total_recibos_sem_aereo.iloc[0][0],Valor_Total_Recibo_Voo_Regular.iloc[0][0],\n",
    "                       Valor_Total_Recibo_Voo_Block_Charter.iloc[0][0],\n",
    "                       Valor_Total_Recibo_Voo_Fretado.iloc[0][0],Valor_Total_Recibo_Complementar.iloc[0][0],0], \n",
    "     'TOTAL AEREO': [0, Aereo_Total_Recibo_Voo_Regular.iloc[0][0],Aereo_Total_Recibo_Voo_Block_Charter.iloc[0][0],\n",
    "                    Aereo_Total_Recibo_Voo_Fretado.iloc[0][0],Aereo_Total_Recibo_Complementar.iloc[0][0],0]}\n",
    "Resultado = pd.DataFrame(data=d)\n",
    "Resultado = Resultado.set_index('TIPO')\n",
    "cols = Resultado.columns.tolist()\n",
    "cols = cols[-1:] + cols[:-1]\n",
    "Resultado = Resultado[cols]\n",
    "Resultado.loc['TOTAL']['TOTAL RECIBOS'] = sum(Resultado['TOTAL RECIBOS'])\n",
    "Resultado.loc['TOTAL']['TOTAL AEREO'] = sum(Resultado['TOTAL AEREO'])\n",
    "Resultado"
   ]
  },
  {
   "cell_type": "code",
   "execution_count": null,
   "metadata": {},
   "outputs": [],
   "source": []
  }
 ],
 "metadata": {
  "kernelspec": {
   "display_name": "Python 3",
   "language": "python",
   "name": "python3"
  },
  "language_info": {
   "codemirror_mode": {
    "name": "ipython",
    "version": 3
   },
   "file_extension": ".py",
   "mimetype": "text/x-python",
   "name": "python",
   "nbconvert_exporter": "python",
   "pygments_lexer": "ipython3",
   "version": "3.7.0"
  }
 },
 "nbformat": 4,
 "nbformat_minor": 2
}
